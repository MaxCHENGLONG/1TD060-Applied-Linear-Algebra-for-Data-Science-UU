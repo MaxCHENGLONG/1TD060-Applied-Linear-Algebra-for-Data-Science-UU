{
 "cells": [
  {
   "cell_type": "markdown",
   "metadata": {},
   "source": [
    "# Question 1"
   ]
  },
  {
   "cell_type": "markdown",
   "metadata": {},
   "source": [
    "## Question 1.a"
   ]
  },
  {
   "cell_type": "code",
   "execution_count": 1,
   "metadata": {},
   "outputs": [
    {
     "name": "stdout",
     "output_type": "stream",
     "text": [
      "A = \n",
      " [[5 5 0 4]\n",
      " [1 1 5 0]\n",
      " [3 2 0 4]\n",
      " [5 3 0 5]\n",
      " [0 0 4 0]]\n",
      "Matrix A rank(A) =  4\n",
      "U = \n",
      " [[-0.65 -0.04 -0.71  0.23]\n",
      " [-0.11  0.78 -0.14 -0.24]\n",
      " [-0.43 -0.06  0.51  0.63]\n",
      " [-0.62 -0.07  0.41 -0.64]\n",
      " [-0.02  0.62  0.22  0.31]]\n",
      "V^T = \n",
      " [[-0.63 -0.49 -0.05 -0.6 ]\n",
      " [ 0.01  0.04  0.99 -0.12]\n",
      " [-0.05 -0.75  0.11  0.66]\n",
      " [-0.78  0.45  0.04  0.44]]\n",
      "Sigma =  [12.32  6.42  1.92  0.53]\n"
     ]
    }
   ],
   "source": [
    "import numpy as np\n",
    "import pandas as pd\n",
    "MatrixA = np.array([[5,5,0,4],[1,1,5,0],[3,2,0,4],[5,3,0,5],[0,0,4,0]])\n",
    "#print matrix A and rank(A)\n",
    "print('A = \\n',MatrixA)\n",
    "print('Matrix A rank(A) = ',np.linalg.matrix_rank(MatrixA))\n",
    "\n",
    "# calculate SVD\n",
    "U, S , Vt = np.linalg.svd(MatrixA, full_matrices= False)\n",
    "#print U,V^T,Sigma\n",
    "print('U = \\n', np.around(U,2))\n",
    "print('V^T = \\n', np.around(Vt,2))\n",
    "print('Sigma = ', np.around(S,2))"
   ]
  },
  {
   "cell_type": "markdown",
   "metadata": {},
   "source": [
    "## Question 1.b"
   ]
  },
  {
   "cell_type": "code",
   "execution_count": 3,
   "metadata": {},
   "outputs": [
    {
     "name": "stdout",
     "output_type": "stream",
     "text": [
      "A = \n",
      " [[5 5 0 4]\n",
      " [1 1 5 0]\n",
      " [3 2 0 4]\n",
      " [5 3 0 5]\n",
      " [0 0 4 0]]\n",
      "Matrix A rank(A) =  4\n",
      "Av_1 = sigma_1_u_1 = \n",
      " [8.0041244  1.37300843 5.27090348 7.61955262 0.20216268]\n",
      "Av_2 = sigma_2_u_2 = \n",
      " [ 0.26629295 -5.00294986  0.38727368  0.45917319 -3.96871495]\n",
      "Av_3 = sigma_3_u_3 = \n",
      " [-1.35973748 -0.26303734  0.97916054  0.78709136  0.4269615 ]\n",
      "Av_4 = sigma_4_u_4 = \n",
      " [ 0.11914149 -0.12709031  0.32990945 -0.33476123  0.16166565]\n"
     ]
    }
   ],
   "source": [
    "import numpy as np\n",
    "import pandas as pd\n",
    "MatrixA = np.array([[5,5,0,4],[1,1,5,0],[3,2,0,4],[5,3,0,5],[0,0,4,0]])\n",
    "#print matrix A and rank(A)\n",
    "print('A = \\n',MatrixA)\n",
    "print('Matrix A rank(A) = ',np.linalg.matrix_rank(MatrixA))\n",
    "\n",
    "# calculate SVD\n",
    "U, S , Vt = np.linalg.svd(MatrixA, full_matrices= False)\n",
    "Sigma_matrix = np.diag(S)\n",
    "\n",
    "sigma_1_u_1 = Sigma_matrix[0,0] *  (- U[:,0])\n",
    "sigma_2_u_2 = Sigma_matrix[1,1] *  (- U[:,1])\n",
    "sigma_3_u_3 = Sigma_matrix[2,2] *  ( U[:,2])\n",
    "sigma_4_u_4 = Sigma_matrix[3,3] *  ( U[:,3])\n",
    "\n",
    "print('Av_1 = sigma_1_u_1 = \\n',sigma_1_u_1)\n",
    "print('Av_2 = sigma_2_u_2 = \\n',sigma_2_u_2)\n",
    "print('Av_3 = sigma_3_u_3 = \\n',sigma_3_u_3)\n",
    "print('Av_4 = sigma_4_u_4 = \\n',sigma_4_u_4)"
   ]
  },
  {
   "cell_type": "code",
   "execution_count": null,
   "metadata": {},
   "outputs": [],
   "source": []
  },
  {
   "cell_type": "code",
   "execution_count": null,
   "metadata": {},
   "outputs": [],
   "source": []
  }
 ],
 "metadata": {
  "kernelspec": {
   "display_name": "Python 3",
   "language": "python",
   "name": "python3"
  },
  "language_info": {
   "codemirror_mode": {
    "name": "ipython",
    "version": 3
   },
   "file_extension": ".py",
   "mimetype": "text/x-python",
   "name": "python",
   "nbconvert_exporter": "python",
   "pygments_lexer": "ipython3",
   "version": "3.10.11"
  }
 },
 "nbformat": 4,
 "nbformat_minor": 2
}
